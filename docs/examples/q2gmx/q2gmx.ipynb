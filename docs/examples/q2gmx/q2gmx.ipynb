{
 "cells": [
  {
   "cell_type": "markdown",
   "metadata": {},
   "source": [
    "## Q to GMX conversion  \n",
    "\n",
    "This notebook provides an example of Qtools/Qpyl library usage in Python.\n",
    "\n",
    "It loads Q parameters (.lib and .prm) and the structure file (.pdb) of a single residue (in this case phenol) and converts it to Gromacs format (.itp and .gro).  \n",
    "  \n",
    "*Notes*:  \n",
    "1.  The parameters might not be exactly the same as in original OPLS due to rounding errors, especially in the A,B -> $\\sigma$,$\\epsilon$ conversion.    \n",
    "2.  The output from this script has been validated by comparing the zeroth-step energies (via gmx dump, v5.0.2) of Tyr ($\\Delta E = 0.01 \\% $) and Trp ($\\Delta E = 0.4 \\% ~ $) residues, produced with the generated topology and the topology built with GMX opls parameters via pdb2gmx on the same structure.  \n",
    "2.1. Bonds to -C were removed from the GMX library to prevent 'dangling bond error' in pdb2gmx.  \n",
    "2.2. Two impropers are missing in TRP/GMX_opls (on CD2 and CE2). They were removed from Q for the test.  \n",
    "2.3. Fixed a typo in Qoplsaa.lib v1.2 in the TRP improper section (HH2  CH2  CE2   CZ3, should be HH2  CH2  CZ2   CZ3).  \n",
    "2.4. TRP proper dihedrals differ by about 3% in GMX vs Q. The \"problematic\" dihedrals that do not match are defined explicitly in aminoacids.rtp and come from Kamiski et al (JPCB, 2001). These parameters appear to match \"opls2005\" (ffld_server -version 14 output). When removed, the difference drops to 0.4 % (rounding errors)."
   ]
  },
  {
   "cell_type": "markdown",
   "metadata": {},
   "source": [
    "#### Load the modules"
   ]
  },
  {
   "cell_type": "code",
   "execution_count": 1,
   "metadata": {
    "collapsed": false
   },
   "outputs": [],
   "source": [
    "from __future__ import print_function, division, absolute_import\n",
    "import time\n",
    "from Qpyl.core.qparameter import QPrm\n",
    "from Qpyl.core.qlibrary import QLib\n",
    "from Qpyl.core.qstructure import QStruct\n",
    "from Qpyl.core.qtopology import QTopology\n",
    "from Qpyl.common import init_logger\n",
    "# load the logger\n",
    "logger = init_logger('Qpyl')"
   ]
  },
  {
   "cell_type": "markdown",
   "metadata": {},
   "source": [
    "#### Load  Q parameters\n",
    "\n",
    "Set `ignore_errors = True` if you experience issues with bad parameters/non-integer charges/..."
   ]
  },
  {
   "cell_type": "code",
   "execution_count": 2,
   "metadata": {
    "collapsed": false
   },
   "outputs": [],
   "source": [
    "ignore_errors = False\n",
    "\n",
    "qlib = QLib(\"oplsaa\", ignore_errors=ignore_errors)\n",
    "qprm = QPrm(\"oplsaa\", ignore_errors=ignore_errors)\n",
    "qstr = QStruct(\"fnl.pdb\", \"pdb\", ignore_errors=ignore_errors)\n",
    "qlib.read_lib(\"fnl.lib\")\n",
    "qprm.read_prm(\"fnl.prm\")\n",
    "qtop = QTopology(qlib, qprm, qstr)\n",
    "\n",
    "if len(qtop.residues) != 1:\n",
    "    raise Exception(\"Only single residue allowed\")\n",
    "resname = qtop.residues[0].name"
   ]
  },
  {
   "cell_type": "markdown",
   "metadata": {},
   "source": [
    "#### Make the GRO"
   ]
  },
  {
   "cell_type": "code",
   "execution_count": 3,
   "metadata": {
    "collapsed": false
   },
   "outputs": [],
   "source": [
    "crds = []\n",
    "\n",
    "for atom in qtop.atoms:\n",
    "    x, y, z = [crd/10.0 for crd in atom.struct.coordinates]  # A to nm\n",
    "    crds.append(\"{:>5d}{:<5s}{:>5s}{:>5d}{:>8.3f}{:>8.3f}{:>8.3f}{:>8.4f}{:>8.4f}{:>8.4f}\"\n",
    "                \"\".format(1, resname, atom.name, atom.index, x, y, z, 0, 0, 0))\n",
    "\n",
    "gro = \"\"\"\\\n",
    "{} from Q\n",
    "{:>5d}\n",
    "{}\n",
    "0.0 0.0 0.0\n",
    "\"\"\".format(resname, len(qtop.atoms), \"\\n\".join(crds))"
   ]
  },
  {
   "cell_type": "markdown",
   "metadata": {},
   "source": [
    "#### Make the ITP "
   ]
  },
  {
   "cell_type": "code",
   "execution_count": 4,
   "metadata": {
    "collapsed": true
   },
   "outputs": [],
   "source": [
    "typs, atms, bnds, angs, dihs, imps, pairs = [], [], [], [], [], [], set([])"
   ]
  },
  {
   "cell_type": "code",
   "execution_count": 5,
   "metadata": {
    "collapsed": false
   },
   "outputs": [],
   "source": [
    "for aprm in sorted(set([atom.prm for atom in qtop.atoms]), key=lambda x: x.prm_id):\n",
    "    if aprm.lj_B < 1e-7 and aprm.lj_A < 1e-7:        \n",
    "        sig, eps = 0, 0\n",
    "    elif aprm.lj_B < 1e-7:\n",
    "        # when B is 0, we need to tell GMX this by setting the B to a random (1) value and \n",
    "        # then setting the calculated \"fake\" sigma to a negative value\n",
    "        # GMX will recalculate c6 (B) and c12 (A) from the fake sigma/epsilons and set c6=B=0\n",
    "        # https://github.com/gromacs/gromacs/blob/5fb87d63ce5df628bfca85f1cebdbc845ec89b40/src/gromacs/gmxpreprocess/convparm.cpp#L100\n",
    "        new_B = 1.0\n",
    "        sig, eps = -(aprm.lj_A/new_B)**(2/6) / 10,  (new_B**4) / 4 / (aprm.lj_A**2) * 4.184\n",
    "    else:\n",
    "        sig, eps = (aprm.lj_A/aprm.lj_B)**(2/6) / 10,  (aprm.lj_B**4) / 4 / (aprm.lj_A**2) * 4.184\n",
    "    atype = \"op_{}\".format(aprm.atom_type)\n",
    "\n",
    "    typs.append(\"   {:<10s} {:<10s} {:>10.6f}   0.000   A   {:>15e} {:>15e}\"\n",
    "                \"\".format(atype, atype, aprm.mass, sig, eps))"
   ]
  },
  {
   "cell_type": "code",
   "execution_count": 6,
   "metadata": {
    "collapsed": false
   },
   "outputs": [],
   "source": [
    "charge_groups = qtop.residues[0].lib.charge_groups\n",
    "for atom in qtop.atoms:\n",
    "    atype = \"op_{}\".format(atom.prm.atom_type)\n",
    "    charge_group = [i+1 for i, ch_grp in enumerate(charge_groups) if atom.name in ch_grp][0]\n",
    "    atms.append(\"{:>5d}   {:<10s} {:>5d} {:5s} {:5s} {:5d} {:10.6f} {:10.6f}\"\n",
    "                \"\".format(atom.index, atype, 1, resname, atom.name,\n",
    "                          charge_group, atom.charge, atom.prm.mass))"
   ]
  },
  {
   "cell_type": "code",
   "execution_count": 7,
   "metadata": {
    "collapsed": true
   },
   "outputs": [],
   "source": [
    "charge_groups = qtop.residues"
   ]
  },
  {
   "cell_type": "code",
   "execution_count": 8,
   "metadata": {
    "collapsed": false
   },
   "outputs": [],
   "source": [
    "for bond in qtop.bonds:\n",
    "    a1, a2 = [atom.index for atom in bond.atoms]\n",
    "    bnds.append(\"{:>5d} {:>5d} {:>5d} {:>10.6f} {:>10.3f}\"\n",
    "                \"\".format(a1, a2, 1, bond.prm.r0/10.0, bond.prm.fc*4.184*100))"
   ]
  },
  {
   "cell_type": "code",
   "execution_count": 9,
   "metadata": {
    "collapsed": false
   },
   "outputs": [],
   "source": [
    "for angle in qtop.angles:\n",
    "    a1, a2, a3 = [atom.index for atom in angle.atoms]\n",
    "    angs.append(\"{:>5d} {:>5d} {:>5d} {:>5d} {:>10.3f} {:>10.3f}\"\n",
    "                \"\".format(a1, a2, a3, 1, angle.prm.theta0, angle.prm.fc*4.184))"
   ]
  },
  {
   "cell_type": "code",
   "execution_count": 10,
   "metadata": {
    "collapsed": false
   },
   "outputs": [],
   "source": [
    "# Use type 5 dihedral (Fourier, GMX Manual 4.2.13, table 5.5)\n",
    "dih_type = 5\n",
    "\n",
    "for torsion in qtop.torsions:\n",
    "    opls_torsion = [0, 0, 0, 0]   # F1, F2, F3, F4\n",
    "    for prm in torsion.prm.get_prms():\n",
    "        fc, mult, phase, npaths = prm\n",
    "        mult = abs(mult)\n",
    "        if int(mult) != mult or npaths != 1.0 or \\\n",
    "              (mult%2 == 0 and phase != 180.0) or \\\n",
    "              int(mult) not in (1,2,3,4):\n",
    "            raise Exception(\"Bad parameter: \" + str(torsion.prm))\n",
    "        opls_torsion[abs(int(mult))-1] = fc * 2 * 4.184  # Q to ffld to kJ/mol\n",
    "    c1, c2, c3, c4 = opls_torsion\n",
    "\n",
    "# Conversion to RB (type 3)\n",
    "#    f1, f2, f3, f4 = opls_torsion\n",
    "#    c0 = (f2 + (f1+f3)/2.0)\n",
    "#    c1 = ((-f1 + 3*f3)/2.0)\n",
    "#    c2 = (-f2 + 4*f4)\n",
    "#    c3 = (-2*f3)\n",
    "#    c4, c5 = 0, 0\n",
    "    \n",
    "    a1, a2, a3, a4 = [a.index for a in torsion.atoms]\n",
    "    dihs.append(\"{:>5d} {:>5d} {:>5d} {:>5d} {:>5d} {:>10.6f} {:>10.6f} {:>10.6f} {:>10.6f}\"\n",
    "                \"\".format(a1, a2, a3, a4, dih_type, c1, c2, c3, c4))\n",
    "    \n",
    "    # find 1-4 pairs\n",
    "    # check that atoms don't share bonds/angles (four/five member rings)\n",
    "    # avoid duplicates (six member rings)\n",
    "    if not (set(torsion.atoms[0].bonds) & set(torsion.atoms[3].bonds)) and \\\n",
    "       not (set(torsion.atoms[0].angles) & set(torsion.atoms[3].angles)):\n",
    "        pairs.add(tuple(sorted((a1, a4))))\n",
    "pairs = sorted([\"{:>5d} {:>5d} {:>5d}\".format(a1, a4, 1) for a1, a4 in pairs])"
   ]
  },
  {
   "cell_type": "code",
   "execution_count": 11,
   "metadata": {
    "collapsed": false
   },
   "outputs": [],
   "source": [
    "# Use type 4 periodic improper dihedral (GMX Manual 4.2.12, table 5.5)\n",
    "imp_type = 4\n",
    "\n",
    "for improper in qtop.impropers:\n",
    "    a1, a2, a3, a4 = [a.index for a in improper.atoms]\n",
    "    imps.append(\"{:>5d} {:>5d} {:>5d} {:>5d} {:>5d} {:>10.3f} {:>10.5f} {:>10.3f}\"\n",
    "                \"\".format(a1, a2, a3, a4, imp_type, improper.prm.phi0,\n",
    "                          improper.prm.fc*4.184, improper.prm.multiplicity))"
   ]
  },
  {
   "cell_type": "code",
   "execution_count": 12,
   "metadata": {
    "collapsed": false
   },
   "outputs": [],
   "source": [
    "prms = {\"atomtypes\": typs,\n",
    "        \"atoms\": atms,\n",
    "        \"bonds\": bnds,\n",
    "        \"angles\" : angs,\n",
    "        \"dihedrals\": dihs,\n",
    "        \"impropers\": imps,\n",
    "        \"pairs\": pairs}\n",
    "for k, v in prms.iteritems():\n",
    "    prms[k] = \"\\n\".join(v)\n",
    "\n",
    "itp = \"\"\";\n",
    "; OPLS/AA topology for '{resname}'\n",
    "; Converted from Q with q2gmx.ipynb\n",
    "; Date: {date}\n",
    ";\n",
    "\n",
    "[ atomtypes ]\n",
    "; name mass charge ptype sigma(nm) epsilon (kJ/mol) \n",
    "{atomtypes}\n",
    "\n",
    "[ moleculetype ]\n",
    "; Name nrexcl\n",
    "{resname} 3\n",
    "\n",
    "[ atoms ]\n",
    "; nr type  resnr residue  atom  cgnr charge  mass \n",
    "{atoms}\n",
    "\n",
    "[ bonds ]\n",
    "; ai    aj    type     r0 (nm)   fc (kJ/(mol nm2)) \n",
    "{bonds}\n",
    "\n",
    "[ angles ]\n",
    ";  ai    aj    ak type    theta0 (degr)   fc (kJ/(mol rad2) \n",
    "{angles}\n",
    "\n",
    "[ dihedrals ]\n",
    "; Type 5 Fourier\n",
    ";  ai    aj    ak    al  type     coefficients\n",
    "{dihedrals}\n",
    "\n",
    "[ dihedrals ]\n",
    "; Periodic improper dihedrals (type 4)\n",
    ";  ai    aj    ak    al  type     phi0    fc (kJ/mol)   n \n",
    "{impropers}\n",
    "\n",
    "[ pairs ]\n",
    ";  ai    aj       f_qq    qi     qj   sigma (nm)  epsilon (kJ/mol) \n",
    "{pairs}\n",
    "\"\"\".format(resname=resname, date=time.ctime(), **prms)"
   ]
  },
  {
   "cell_type": "markdown",
   "metadata": {},
   "source": [
    "#### Write files"
   ]
  },
  {
   "cell_type": "code",
   "execution_count": 13,
   "metadata": {
    "collapsed": false
   },
   "outputs": [],
   "source": [
    "#open(resname+\".gro\", \"w\").write(gro)\n",
    "#open(resname+\".itp\", \"w\").write(itp)"
   ]
  },
  {
   "cell_type": "code",
   "execution_count": 14,
   "metadata": {
    "collapsed": false
   },
   "outputs": [
    {
     "name": "stdout",
     "output_type": "stream",
     "text": [
      "FNL from Q\n",
      "   13\n",
      "    1FNL     C1    1   0.141  -0.000   0.000  0.0000  0.0000  0.0000\n",
      "    1FNL     C2    2   0.070   0.122   0.000  0.0000  0.0000  0.0000\n",
      "    1FNL     C3    3  -0.070   0.122   0.000  0.0000  0.0000  0.0000\n",
      "    1FNL     C4    4  -0.140  -0.000   0.000  0.0000  0.0000  0.0000\n",
      "    1FNL     C5    5  -0.070  -0.122   0.000  0.0000  0.0000  0.0000\n",
      "    1FNL     C6    6   0.070  -0.122   0.000  0.0000  0.0000  0.0000\n",
      "    1FNL     O1    7   0.277  -0.000   0.000  0.0000  0.0000  0.0000\n",
      "    1FNL     H1    8   0.125   0.217   0.000  0.0000  0.0000  0.0000\n",
      "    1FNL     H2    9  -0.125   0.217   0.000  0.0000  0.0000  0.0000\n",
      "    1FNL     H3   10  -0.251  -0.000   0.000  0.0000  0.0000  0.0000\n",
      "    1FNL     H4   11  -0.125  -0.217   0.000  0.0000  0.0000  0.0000\n",
      "    1FNL     H5   12   0.125  -0.217   0.000  0.0000  0.0000  0.0000\n",
      "    1FNL     H6   13   0.303  -0.092   0.000  0.0000  0.0000  0.0000\n",
      "0.0 0.0 0.0\n",
      "\n"
     ]
    }
   ],
   "source": [
    "print(gro)"
   ]
  },
  {
   "cell_type": "code",
   "execution_count": 15,
   "metadata": {
    "collapsed": false
   },
   "outputs": [
    {
     "name": "stdout",
     "output_type": "stream",
     "text": [
      ";\n",
      "; OPLS/AA topology for 'FNL'\n",
      "; Converted from Q with q2gmx.ipynb\n",
      "; Date: Mon Jul  3 18:18:35 2017\n",
      ";\n",
      "\n",
      "[ atomtypes ]\n",
      "; name mass charge ptype sigma(nm) epsilon (kJ/mol) \n",
      "   op_fnl.C1  op_fnl.C1   12.011000   0.000   A      3.549999e-01    2.928806e-01\n",
      "   op_fnl.C2  op_fnl.C2   12.011000   0.000   A      3.549999e-01    2.928806e-01\n",
      "   op_fnl.C3  op_fnl.C3   12.011000   0.000   A      3.549999e-01    2.928806e-01\n",
      "   op_fnl.C4  op_fnl.C4   12.011000   0.000   A      3.549999e-01    2.928806e-01\n",
      "   op_fnl.C5  op_fnl.C5   12.011000   0.000   A      3.549999e-01    2.928806e-01\n",
      "   op_fnl.C6  op_fnl.C6   12.011000   0.000   A      3.549999e-01    2.928806e-01\n",
      "   op_fnl.H1  op_fnl.H1    1.007900   0.000   A      2.419998e-01    1.255208e-01\n",
      "   op_fnl.H2  op_fnl.H2    1.007900   0.000   A      2.419998e-01    1.255208e-01\n",
      "   op_fnl.H3  op_fnl.H3    1.007900   0.000   A      2.419998e-01    1.255208e-01\n",
      "   op_fnl.H4  op_fnl.H4    1.007900   0.000   A      2.419998e-01    1.255208e-01\n",
      "   op_fnl.H5  op_fnl.H5    1.007900   0.000   A      2.419998e-01    1.255208e-01\n",
      "   op_fnl.H6  op_fnl.H6    1.007900   0.000   A      4.996148e-02    1.260944e-01\n",
      "   op_fnl.O1  op_fnl.O1   15.999000   0.000   A      3.069998e-01    7.112857e-01\n",
      "\n",
      "[ moleculetype ]\n",
      "; Name nrexcl\n",
      "FNL 3\n",
      "\n",
      "[ atoms ]\n",
      "; nr type  resnr residue  atom  cgnr charge  mass \n",
      "    1   op_fnl.C1      1 FNL   C1        1   0.150000  12.011000\n",
      "    2   op_fnl.C2      1 FNL   C2        1  -0.115000  12.011000\n",
      "    3   op_fnl.C3      1 FNL   C3        1  -0.115000  12.011000\n",
      "    4   op_fnl.C4      1 FNL   C4        1  -0.115000  12.011000\n",
      "    5   op_fnl.C5      1 FNL   C5        1  -0.115000  12.011000\n",
      "    6   op_fnl.C6      1 FNL   C6        1  -0.115000  12.011000\n",
      "    7   op_fnl.O1      1 FNL   O1        1  -0.585000  15.999000\n",
      "    8   op_fnl.H1      1 FNL   H1        1   0.115000   1.007900\n",
      "    9   op_fnl.H2      1 FNL   H2        1   0.115000   1.007900\n",
      "   10   op_fnl.H3      1 FNL   H3        1   0.115000   1.007900\n",
      "   11   op_fnl.H4      1 FNL   H4        1   0.115000   1.007900\n",
      "   12   op_fnl.H5      1 FNL   H5        1   0.115000   1.007900\n",
      "   13   op_fnl.H6      1 FNL   H6        1   0.435000   1.007900\n",
      "\n",
      "[ bonds ]\n",
      "; ai    aj    type     r0 (nm)   fc (kJ/(mol nm2)) \n",
      "    1     2     1   0.140000 392459.200\n",
      "    1     6     1   0.140000 392459.200\n",
      "    1     7     1   0.136400 376560.000\n",
      "    2     3     1   0.140000 392459.200\n",
      "    2     8     1   0.108000 307105.600\n",
      "    3     4     1   0.140000 392459.200\n",
      "    3     9     1   0.108000 307105.600\n",
      "    4     5     1   0.140000 392459.200\n",
      "    4    10     1   0.108000 307105.600\n",
      "    5     6     1   0.140000 392459.200\n",
      "    5    11     1   0.108000 307105.600\n",
      "    6    12     1   0.108000 307105.600\n",
      "    7    13     1   0.094500 462750.400\n",
      "\n",
      "[ angles ]\n",
      ";  ai    aj    ak type    theta0 (degr)   fc (kJ/(mol rad2) \n",
      "    2     1     6     1    120.000    527.184\n",
      "    2     1     7     1    120.000    585.760\n",
      "    1     2     3     1    120.000    527.184\n",
      "    1     2     8     1    120.000    292.880\n",
      "    6     1     7     1    120.000    585.760\n",
      "    1     6     5     1    120.000    527.184\n",
      "    1     6    12     1    120.000    292.880\n",
      "    1     7    13     1    113.000    292.880\n",
      "    3     2     8     1    120.000    292.880\n",
      "    2     3     4     1    120.000    527.184\n",
      "    2     3     9     1    120.000    292.880\n",
      "    4     3     9     1    120.000    292.880\n",
      "    3     4     5     1    120.000    527.184\n",
      "    3     4    10     1    120.000    292.880\n",
      "    5     4    10     1    120.000    292.880\n",
      "    4     5     6     1    120.000    527.184\n",
      "    4     5    11     1    120.000    292.880\n",
      "    6     5    11     1    120.000    292.880\n",
      "    5     6    12     1    120.000    292.880\n",
      "\n",
      "[ dihedrals ]\n",
      "; Type 5 Fourier\n",
      ";  ai    aj    ak    al  type     coefficients\n",
      "    3     2     1     6     5   0.000000  30.334000   0.000000   0.000000\n",
      "    6     1     2     8     5   0.000000  30.334000   0.000000   0.000000\n",
      "    2     1     6     5     5   0.000000  30.334000   0.000000   0.000000\n",
      "    2     1     6    12     5   0.000000  30.334000   0.000000   0.000000\n",
      "    2     1     7    13     5   0.000000   7.037488   0.000000   0.000000\n",
      "    3     2     1     7     5   0.000000  30.334000   0.000000   0.000000\n",
      "    7     1     2     8     5   0.000000  30.334000   0.000000   0.000000\n",
      "    1     2     3     4     5   0.000000  30.334000   0.000000   0.000000\n",
      "    1     2     3     9     5   0.000000  30.334000   0.000000   0.000000\n",
      "    5     6     1     7     5   0.000000  30.334000   0.000000   0.000000\n",
      "    7     1     6    12     5   0.000000  30.334000   0.000000   0.000000\n",
      "    6     1     7    13     5   0.000000   7.037488   0.000000   0.000000\n",
      "    1     6     5     4     5   0.000000  30.334000   0.000000   0.000000\n",
      "    1     6     5    11     5   0.000000  30.334000   0.000000   0.000000\n",
      "    4     3     2     8     5   0.000000  30.334000   0.000000   0.000000\n",
      "    8     2     3     9     5   0.000000  30.334000   0.000000   0.000000\n",
      "    2     3     4     5     5   0.000000  30.334000   0.000000   0.000000\n",
      "    2     3     4    10     5   0.000000  30.334000   0.000000   0.000000\n",
      "    5     4     3     9     5   0.000000  30.334000   0.000000   0.000000\n",
      "    9     3     4    10     5   0.000000  30.334000   0.000000   0.000000\n",
      "    3     4     5     6     5   0.000000  30.334000   0.000000   0.000000\n",
      "    3     4     5    11     5   0.000000  30.334000   0.000000   0.000000\n",
      "    6     5     4    10     5   0.000000  30.334000   0.000000   0.000000\n",
      "   10     4     5    11     5   0.000000  30.334000   0.000000   0.000000\n",
      "    4     5     6    12     5   0.000000  30.334000   0.000000   0.000000\n",
      "   11     5     6    12     5   0.000000  30.334000   0.000000   0.000000\n",
      "\n",
      "[ dihedrals ]\n",
      "; Periodic improper dihedrals (type 4)\n",
      ";  ai    aj    ak    al  type     phi0    fc (kJ/mol)   n \n",
      "    2     1     6     7     4    180.000   16.73600      2.000\n",
      "    1     2     3     8     4    180.000    4.60240      2.000\n",
      "    2     3     4     9     4    180.000    4.60240      2.000\n",
      "    3     4     5    10     4    180.000    4.60240      2.000\n",
      "    4     5     6    11     4    180.000    4.60240      2.000\n",
      "    1     6     5    12     4    180.000    4.60240      2.000\n",
      "\n",
      "[ pairs ]\n",
      ";  ai    aj       f_qq    qi     qj   sigma (nm)  epsilon (kJ/mol) \n",
      "    1     4     1\n",
      "    1     9     1\n",
      "    1    11     1\n",
      "    2     5     1\n",
      "    2    10     1\n",
      "    2    12     1\n",
      "    2    13     1\n",
      "    3     6     1\n",
      "    3     7     1\n",
      "    3    11     1\n",
      "    4     8     1\n",
      "    4    12     1\n",
      "    5     7     1\n",
      "    5     9     1\n",
      "    6     8     1\n",
      "    6    10     1\n",
      "    6    13     1\n",
      "    7     8     1\n",
      "    7    12     1\n",
      "    8     9     1\n",
      "    9    10     1\n",
      "   10    11     1\n",
      "   11    12     1\n",
      "\n"
     ]
    }
   ],
   "source": [
    "print(itp)"
   ]
  },
  {
   "cell_type": "code",
   "execution_count": null,
   "metadata": {
    "collapsed": true
   },
   "outputs": [],
   "source": []
  }
 ],
 "metadata": {
  "kernelspec": {
   "display_name": "Python 2",
   "language": "python",
   "name": "python2"
  },
  "language_info": {
   "codemirror_mode": {
    "name": "ipython",
    "version": 2
   },
   "file_extension": ".py",
   "mimetype": "text/x-python",
   "name": "python",
   "nbconvert_exporter": "python",
   "pygments_lexer": "ipython2",
   "version": "2.7.6"
  }
 },
 "nbformat": 4,
 "nbformat_minor": 1
}
